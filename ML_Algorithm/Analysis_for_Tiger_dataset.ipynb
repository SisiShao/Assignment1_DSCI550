{
 "cells": [
  {
   "cell_type": "code",
   "execution_count": 128,
   "metadata": {},
   "outputs": [],
   "source": [
    "import numpy as np\n",
    "import pandas as pd\n",
    "import seaborn as sns \n",
    "import matplotlib.pyplot as plt\n",
    "from sklearn.model_selection import cross_val_score\n",
    "import matplotlib as mpl"
   ]
  },
  {
   "cell_type": "code",
   "execution_count": 38,
   "metadata": {},
   "outputs": [],
   "source": [
    "df = pd.read_csv('tiger_final_dataset.csv')"
   ]
  },
  {
   "cell_type": "code",
   "execution_count": 39,
   "metadata": {},
   "outputs": [
    {
     "data": {
      "text/html": [
       "<div>\n",
       "<style scoped>\n",
       "    .dataframe tbody tr th:only-of-type {\n",
       "        vertical-align: middle;\n",
       "    }\n",
       "\n",
       "    .dataframe tbody tr th {\n",
       "        vertical-align: top;\n",
       "    }\n",
       "\n",
       "    .dataframe thead th {\n",
       "        text-align: right;\n",
       "    }\n",
       "</style>\n",
       "<table border=\"1\" class=\"dataframe\">\n",
       "  <thead>\n",
       "    <tr style=\"text-align: right;\">\n",
       "      <th></th>\n",
       "      <th>Authors</th>\n",
       "      <th>Title</th>\n",
       "      <th>Citation</th>\n",
       "      <th>DOI</th>\n",
       "      <th>Year</th>\n",
       "      <th>0</th>\n",
       "      <th>1</th>\n",
       "      <th>2</th>\n",
       "      <th>3</th>\n",
       "      <th>FINDINGS</th>\n",
       "      <th>...</th>\n",
       "      <th>tavg</th>\n",
       "      <th>tmin</th>\n",
       "      <th>tmax</th>\n",
       "      <th>prcp</th>\n",
       "      <th>snow</th>\n",
       "      <th>wdir</th>\n",
       "      <th>wspd</th>\n",
       "      <th>wpgt</th>\n",
       "      <th>pres</th>\n",
       "      <th>tsun</th>\n",
       "    </tr>\n",
       "  </thead>\n",
       "  <tbody>\n",
       "    <tr>\n",
       "      <td>0</td>\n",
       "      <td>Inka Regine Weingaertner, Sarah Koutnik, Herma...</td>\n",
       "      <td>Chronic Morphine Treatment Attenuates Cell Gro...</td>\n",
       "      <td>PLOS One, January 2013 | Volume 8 | Issue 1 | ...</td>\n",
       "      <td>10.1371/journal.pone.0053510</td>\n",
       "      <td>01/01/13</td>\n",
       "      <td>1.0</td>\n",
       "      <td>NaN</td>\n",
       "      <td>1.0</td>\n",
       "      <td>NaN</td>\n",
       "      <td>duplicated blot, shifted microscopy</td>\n",
       "      <td>...</td>\n",
       "      <td>3.9</td>\n",
       "      <td>-1.9</td>\n",
       "      <td>8.5</td>\n",
       "      <td>3.2</td>\n",
       "      <td>0</td>\n",
       "      <td>227</td>\n",
       "      <td>11.2</td>\n",
       "      <td>47.9</td>\n",
       "      <td>1012.6</td>\n",
       "      <td>114</td>\n",
       "    </tr>\n",
       "    <tr>\n",
       "      <td>1</td>\n",
       "      <td>Jessica M. Esparza, Eileen O’Toole, Linya Li, ...</td>\n",
       "      <td>Katanin Localization Requires Triplet Microtub...</td>\n",
       "      <td>PLOS ONE, January 2013 | Volume 8 | Issue 1 | ...</td>\n",
       "      <td>10.1371/journal.pone.0053940</td>\n",
       "      <td>01/01/13</td>\n",
       "      <td>NaN</td>\n",
       "      <td>1.0</td>\n",
       "      <td>NaN</td>\n",
       "      <td>NaN</td>\n",
       "      <td>duplicated colony strip</td>\n",
       "      <td>...</td>\n",
       "      <td>-3.9</td>\n",
       "      <td>-6.1</td>\n",
       "      <td>0.6</td>\n",
       "      <td>0</td>\n",
       "      <td>25</td>\n",
       "      <td>355</td>\n",
       "      <td>13.5</td>\n",
       "      <td>NaN</td>\n",
       "      <td>1023.4</td>\n",
       "      <td>NaN</td>\n",
       "    </tr>\n",
       "    <tr>\n",
       "      <td>2</td>\n",
       "      <td>Sreedevi Avasarala, Fangfang Zhang, Guangliang...</td>\n",
       "      <td>Curcumin Modulates the Inflammatory Response a...</td>\n",
       "      <td>PLOS ONE, February 2013 | Volume 8 | Issue 2 |...</td>\n",
       "      <td>10.1371/journal.pone.0057285</td>\n",
       "      <td>01/01/13</td>\n",
       "      <td>NaN</td>\n",
       "      <td>NaN</td>\n",
       "      <td>1.0</td>\n",
       "      <td>NaN</td>\n",
       "      <td>reuse of one lane in different blot experiment</td>\n",
       "      <td>...</td>\n",
       "      <td>3.3</td>\n",
       "      <td>-2.2</td>\n",
       "      <td>4.4</td>\n",
       "      <td>0</td>\n",
       "      <td>0</td>\n",
       "      <td>285</td>\n",
       "      <td>20.5</td>\n",
       "      <td>NaN</td>\n",
       "      <td>1012.3</td>\n",
       "      <td>NaN</td>\n",
       "    </tr>\n",
       "    <tr>\n",
       "      <td>3</td>\n",
       "      <td>Rounak Nassirpour, Pramod P. Mehta, Sangita M....</td>\n",
       "      <td>miR-221 Promotes Tumorigenesis in Human Triple...</td>\n",
       "      <td>PLOS ONE, April 2013 | Volume 8 | Issue 4 | e6...</td>\n",
       "      <td>10.1371/journal.pone.0062170</td>\n",
       "      <td>01/01/13</td>\n",
       "      <td>1.0</td>\n",
       "      <td>NaN</td>\n",
       "      <td>NaN</td>\n",
       "      <td>1</td>\n",
       "      <td>Duplicated / mirrored bands in blot</td>\n",
       "      <td>...</td>\n",
       "      <td>9.7</td>\n",
       "      <td>3.3</td>\n",
       "      <td>16.7</td>\n",
       "      <td>0</td>\n",
       "      <td>NaN</td>\n",
       "      <td>NaN</td>\n",
       "      <td>7.9</td>\n",
       "      <td>NaN</td>\n",
       "      <td>1020.8</td>\n",
       "      <td>NaN</td>\n",
       "    </tr>\n",
       "    <tr>\n",
       "      <td>4</td>\n",
       "      <td>Jianuo Liu,  Peng Xu, Cory Collins, Han Liu, J...</td>\n",
       "      <td>HIV-1 Tat Protein Increases Microglial Outward...</td>\n",
       "      <td>PLOS ONE, May 2013 | Volume 8 | Issue 5 | e649...</td>\n",
       "      <td>10.1371/journal.pone.0064904</td>\n",
       "      <td>01/01/13</td>\n",
       "      <td>NaN</td>\n",
       "      <td>1.0</td>\n",
       "      <td>NaN</td>\n",
       "      <td>NaN</td>\n",
       "      <td>multiple duplicated microscopy images</td>\n",
       "      <td>...</td>\n",
       "      <td>-9.8</td>\n",
       "      <td>-13.8</td>\n",
       "      <td>-6.2</td>\n",
       "      <td>0</td>\n",
       "      <td>51</td>\n",
       "      <td>NaN</td>\n",
       "      <td>2.8</td>\n",
       "      <td>NaN</td>\n",
       "      <td>1026.3</td>\n",
       "      <td>NaN</td>\n",
       "    </tr>\n",
       "    <tr>\n",
       "      <td>...</td>\n",
       "      <td>...</td>\n",
       "      <td>...</td>\n",
       "      <td>...</td>\n",
       "      <td>...</td>\n",
       "      <td>...</td>\n",
       "      <td>...</td>\n",
       "      <td>...</td>\n",
       "      <td>...</td>\n",
       "      <td>...</td>\n",
       "      <td>...</td>\n",
       "      <td>...</td>\n",
       "      <td>...</td>\n",
       "      <td>...</td>\n",
       "      <td>...</td>\n",
       "      <td>...</td>\n",
       "      <td>...</td>\n",
       "      <td>...</td>\n",
       "      <td>...</td>\n",
       "      <td>...</td>\n",
       "      <td>...</td>\n",
       "      <td>...</td>\n",
       "    </tr>\n",
       "    <tr>\n",
       "      <td>209</td>\n",
       "      <td>Nathalie Delgehyr, Uta Wieland, He_lène Rangon...</td>\n",
       "      <td>Drosophila Mgr, a Prefoldin subunit cooperatin...</td>\n",
       "      <td>PNAS | April 10, 2012 | vol. 109 | no. 15 | 57...</td>\n",
       "      <td>10.1073/pnas.1108537109</td>\n",
       "      <td>01/01/12</td>\n",
       "      <td>NaN</td>\n",
       "      <td>1.0</td>\n",
       "      <td>NaN</td>\n",
       "      <td>NaN</td>\n",
       "      <td>NaN</td>\n",
       "      <td>...</td>\n",
       "      <td>11</td>\n",
       "      <td>8</td>\n",
       "      <td>12</td>\n",
       "      <td>NaN</td>\n",
       "      <td>NaN</td>\n",
       "      <td>222</td>\n",
       "      <td>20.6</td>\n",
       "      <td>NaN</td>\n",
       "      <td>1001.7</td>\n",
       "      <td>NaN</td>\n",
       "    </tr>\n",
       "    <tr>\n",
       "      <td>210</td>\n",
       "      <td>Rajesh K. Grover, Julong Cheng, Yingjie Peng, ...</td>\n",
       "      <td>The costimulatory immunogen LPS induces the B-...</td>\n",
       "      <td>PNAS _ April 17, 2012 _ vol. 109 _ no. 16, 603...</td>\n",
       "      <td>10.1073/pnas.1202214109</td>\n",
       "      <td>01/01/12</td>\n",
       "      <td>NaN</td>\n",
       "      <td>1.0</td>\n",
       "      <td>NaN</td>\n",
       "      <td>NaN</td>\n",
       "      <td>NaN</td>\n",
       "      <td>...</td>\n",
       "      <td>14.7</td>\n",
       "      <td>6.1</td>\n",
       "      <td>27.2</td>\n",
       "      <td>0</td>\n",
       "      <td>NaN</td>\n",
       "      <td>NaN</td>\n",
       "      <td>6.1</td>\n",
       "      <td>NaN</td>\n",
       "      <td>1019.6</td>\n",
       "      <td>NaN</td>\n",
       "    </tr>\n",
       "    <tr>\n",
       "      <td>211</td>\n",
       "      <td>Kevin Y. Lee, Yuji Yamamoto, Jeremie Boucher, ...</td>\n",
       "      <td>Shox2 is a molecular determinant of depot-spec...</td>\n",
       "      <td>PNAS | July 9, 2013 | vol. 110 | no. 28 | 1140...</td>\n",
       "      <td>10.1073/pnas.1310331110</td>\n",
       "      <td>01/01/13</td>\n",
       "      <td>NaN</td>\n",
       "      <td>1.0</td>\n",
       "      <td>NaN</td>\n",
       "      <td>NaN</td>\n",
       "      <td>NaN</td>\n",
       "      <td>...</td>\n",
       "      <td>-0.1</td>\n",
       "      <td>-6.7</td>\n",
       "      <td>2.8</td>\n",
       "      <td>0</td>\n",
       "      <td>102</td>\n",
       "      <td>274</td>\n",
       "      <td>23</td>\n",
       "      <td>NaN</td>\n",
       "      <td>1008.6</td>\n",
       "      <td>313</td>\n",
       "    </tr>\n",
       "    <tr>\n",
       "      <td>212</td>\n",
       "      <td>Shuyu Ren, Bryce G. Johnson, Yujiro Kida, Coli...</td>\n",
       "      <td>LRP-6 is a coreceptor for multiple fibrogenic ...</td>\n",
       "      <td>PNAS | January22,2013 | vol.110 | no.4 | 1441</td>\n",
       "      <td>10.1073/pnas.1211179110</td>\n",
       "      <td>01/01/13</td>\n",
       "      <td>NaN</td>\n",
       "      <td>NaN</td>\n",
       "      <td>1.0</td>\n",
       "      <td>NaN</td>\n",
       "      <td>NaN</td>\n",
       "      <td>...</td>\n",
       "      <td>1.8</td>\n",
       "      <td>-1.7</td>\n",
       "      <td>6.1</td>\n",
       "      <td>0</td>\n",
       "      <td>0</td>\n",
       "      <td>34</td>\n",
       "      <td>1.8</td>\n",
       "      <td>NaN</td>\n",
       "      <td>1030.8</td>\n",
       "      <td>NaN</td>\n",
       "    </tr>\n",
       "    <tr>\n",
       "      <td>213</td>\n",
       "      <td>Zhongyuan Wang, Yanping Wu, Haifeng Wang, Yang...</td>\n",
       "      <td>Interplay of mevalonate and Hippo pathways reg...</td>\n",
       "      <td>PNAS | Published online December 23, 2013 | E8...</td>\n",
       "      <td>10.1073/pnas.1319190110</td>\n",
       "      <td>01/01/14</td>\n",
       "      <td>NaN</td>\n",
       "      <td>NaN</td>\n",
       "      <td>1.0</td>\n",
       "      <td>NaN</td>\n",
       "      <td>NaN</td>\n",
       "      <td>...</td>\n",
       "      <td>-7.7</td>\n",
       "      <td>-13.8</td>\n",
       "      <td>-0.4</td>\n",
       "      <td>NaN</td>\n",
       "      <td>NaN</td>\n",
       "      <td>NaN</td>\n",
       "      <td>NaN</td>\n",
       "      <td>NaN</td>\n",
       "      <td>NaN</td>\n",
       "      <td>NaN</td>\n",
       "    </tr>\n",
       "  </tbody>\n",
       "</table>\n",
       "<p>214 rows × 44 columns</p>\n",
       "</div>"
      ],
      "text/plain": [
       "                                               Authors  \\\n",
       "0    Inka Regine Weingaertner, Sarah Koutnik, Herma...   \n",
       "1    Jessica M. Esparza, Eileen O’Toole, Linya Li, ...   \n",
       "2    Sreedevi Avasarala, Fangfang Zhang, Guangliang...   \n",
       "3    Rounak Nassirpour, Pramod P. Mehta, Sangita M....   \n",
       "4    Jianuo Liu,  Peng Xu, Cory Collins, Han Liu, J...   \n",
       "..                                                 ...   \n",
       "209  Nathalie Delgehyr, Uta Wieland, He_lène Rangon...   \n",
       "210  Rajesh K. Grover, Julong Cheng, Yingjie Peng, ...   \n",
       "211  Kevin Y. Lee, Yuji Yamamoto, Jeremie Boucher, ...   \n",
       "212  Shuyu Ren, Bryce G. Johnson, Yujiro Kida, Coli...   \n",
       "213  Zhongyuan Wang, Yanping Wu, Haifeng Wang, Yang...   \n",
       "\n",
       "                                                 Title  \\\n",
       "0    Chronic Morphine Treatment Attenuates Cell Gro...   \n",
       "1    Katanin Localization Requires Triplet Microtub...   \n",
       "2    Curcumin Modulates the Inflammatory Response a...   \n",
       "3    miR-221 Promotes Tumorigenesis in Human Triple...   \n",
       "4    HIV-1 Tat Protein Increases Microglial Outward...   \n",
       "..                                                 ...   \n",
       "209  Drosophila Mgr, a Prefoldin subunit cooperatin...   \n",
       "210  The costimulatory immunogen LPS induces the B-...   \n",
       "211  Shox2 is a molecular determinant of depot-spec...   \n",
       "212  LRP-6 is a coreceptor for multiple fibrogenic ...   \n",
       "213  Interplay of mevalonate and Hippo pathways reg...   \n",
       "\n",
       "                                              Citation  \\\n",
       "0    PLOS One, January 2013 | Volume 8 | Issue 1 | ...   \n",
       "1    PLOS ONE, January 2013 | Volume 8 | Issue 1 | ...   \n",
       "2    PLOS ONE, February 2013 | Volume 8 | Issue 2 |...   \n",
       "3    PLOS ONE, April 2013 | Volume 8 | Issue 4 | e6...   \n",
       "4    PLOS ONE, May 2013 | Volume 8 | Issue 5 | e649...   \n",
       "..                                                 ...   \n",
       "209  PNAS | April 10, 2012 | vol. 109 | no. 15 | 57...   \n",
       "210  PNAS _ April 17, 2012 _ vol. 109 _ no. 16, 603...   \n",
       "211  PNAS | July 9, 2013 | vol. 110 | no. 28 | 1140...   \n",
       "212      PNAS | January22,2013 | vol.110 | no.4 | 1441   \n",
       "213  PNAS | Published online December 23, 2013 | E8...   \n",
       "\n",
       "                              DOI      Year    0    1    2    3  \\\n",
       "0    10.1371/journal.pone.0053510  01/01/13  1.0  NaN  1.0  NaN   \n",
       "1    10.1371/journal.pone.0053940  01/01/13  NaN  1.0  NaN  NaN   \n",
       "2    10.1371/journal.pone.0057285  01/01/13  NaN  NaN  1.0  NaN   \n",
       "3    10.1371/journal.pone.0062170  01/01/13  1.0  NaN  NaN    1   \n",
       "4    10.1371/journal.pone.0064904  01/01/13  NaN  1.0  NaN  NaN   \n",
       "..                            ...       ...  ...  ...  ...  ...   \n",
       "209       10.1073/pnas.1108537109  01/01/12  NaN  1.0  NaN  NaN   \n",
       "210       10.1073/pnas.1202214109  01/01/12  NaN  1.0  NaN  NaN   \n",
       "211       10.1073/pnas.1310331110  01/01/13  NaN  1.0  NaN  NaN   \n",
       "212       10.1073/pnas.1211179110  01/01/13  NaN  NaN  1.0  NaN   \n",
       "213       10.1073/pnas.1319190110  01/01/14  NaN  NaN  1.0  NaN   \n",
       "\n",
       "                                           FINDINGS  ...  tavg   tmin  tmax  \\\n",
       "0               duplicated blot, shifted microscopy  ...   3.9   -1.9   8.5   \n",
       "1                           duplicated colony strip  ...  -3.9   -6.1   0.6   \n",
       "2    reuse of one lane in different blot experiment  ...   3.3   -2.2   4.4   \n",
       "3               Duplicated / mirrored bands in blot  ...   9.7    3.3  16.7   \n",
       "4             multiple duplicated microscopy images  ...  -9.8  -13.8  -6.2   \n",
       "..                                              ...  ...   ...    ...   ...   \n",
       "209                                             NaN  ...    11      8    12   \n",
       "210                                             NaN  ...  14.7    6.1  27.2   \n",
       "211                                             NaN  ...  -0.1   -6.7   2.8   \n",
       "212                                             NaN  ...   1.8   -1.7   6.1   \n",
       "213                                             NaN  ...  -7.7  -13.8  -0.4   \n",
       "\n",
       "     prcp  snow  wdir  wspd  wpgt    pres tsun  \n",
       "0     3.2     0   227  11.2  47.9  1012.6  114  \n",
       "1       0    25   355  13.5   NaN  1023.4  NaN  \n",
       "2       0     0   285  20.5   NaN  1012.3  NaN  \n",
       "3       0   NaN   NaN   7.9   NaN  1020.8  NaN  \n",
       "4       0    51   NaN   2.8   NaN  1026.3  NaN  \n",
       "..    ...   ...   ...   ...   ...     ...  ...  \n",
       "209   NaN   NaN   222  20.6   NaN  1001.7  NaN  \n",
       "210     0   NaN   NaN   6.1   NaN  1019.6  NaN  \n",
       "211     0   102   274    23   NaN  1008.6  313  \n",
       "212     0     0    34   1.8   NaN  1030.8  NaN  \n",
       "213   NaN   NaN   NaN   NaN   NaN     NaN  NaN  \n",
       "\n",
       "[214 rows x 44 columns]"
      ]
     },
     "execution_count": 39,
     "metadata": {},
     "output_type": "execute_result"
    }
   ],
   "source": [
    "df"
   ]
  },
  {
   "cell_type": "code",
   "execution_count": 40,
   "metadata": {},
   "outputs": [],
   "source": [
    "df_train_label=df['Correction']"
   ]
  },
  {
   "cell_type": "code",
   "execution_count": 42,
   "metadata": {},
   "outputs": [],
   "source": [
    "df_train_label.fillna(0,inplace=True) "
   ]
  },
  {
   "cell_type": "code",
   "execution_count": 34,
   "metadata": {},
   "outputs": [],
   "source": [
    "df_train_attribute=df_train[['GreenPct','NearBodyOfWater','Rank','Overall Score','Academic Reputation Score','Citations per Faculty','Faculty Student Ratio','tavg','tmin','tmax','prcp','snow','wdir','wspd','wpgt','pres','tsun']]"
   ]
  },
  {
   "cell_type": "code",
   "execution_count": 7,
   "metadata": {},
   "outputs": [],
   "source": [
    "df_train.fillna(0,inplace=True) "
   ]
  },
  {
   "cell_type": "code",
   "execution_count": 17,
   "metadata": {
    "scrolled": true
   },
   "outputs": [
    {
     "data": {
      "text/html": [
       "<div>\n",
       "<style scoped>\n",
       "    .dataframe tbody tr th:only-of-type {\n",
       "        vertical-align: middle;\n",
       "    }\n",
       "\n",
       "    .dataframe tbody tr th {\n",
       "        vertical-align: top;\n",
       "    }\n",
       "\n",
       "    .dataframe thead th {\n",
       "        text-align: right;\n",
       "    }\n",
       "</style>\n",
       "<table border=\"1\" class=\"dataframe\">\n",
       "  <thead>\n",
       "    <tr style=\"text-align: right;\">\n",
       "      <th></th>\n",
       "      <th>GreenPct</th>\n",
       "      <th>NearBodyOfWater</th>\n",
       "      <th>Rank</th>\n",
       "      <th>Overall Score</th>\n",
       "      <th>Academic Reputation Score</th>\n",
       "      <th>Citations per Faculty</th>\n",
       "      <th>Faculty Student Ratio</th>\n",
       "      <th>tavg</th>\n",
       "      <th>tmin</th>\n",
       "      <th>tmax</th>\n",
       "      <th>prcp</th>\n",
       "      <th>snow</th>\n",
       "      <th>wdir</th>\n",
       "      <th>wspd</th>\n",
       "      <th>wpgt</th>\n",
       "      <th>pres</th>\n",
       "      <th>tsun</th>\n",
       "    </tr>\n",
       "  </thead>\n",
       "  <tbody>\n",
       "    <tr>\n",
       "      <td>0</td>\n",
       "      <td>0.00</td>\n",
       "      <td>0.0</td>\n",
       "      <td>64.0</td>\n",
       "      <td>70.1</td>\n",
       "      <td>92.8</td>\n",
       "      <td>50.0</td>\n",
       "      <td>52.7</td>\n",
       "      <td>3.9</td>\n",
       "      <td>-1.9</td>\n",
       "      <td>8.5</td>\n",
       "      <td>3.2</td>\n",
       "      <td>0</td>\n",
       "      <td>227</td>\n",
       "      <td>11.2</td>\n",
       "      <td>47.9</td>\n",
       "      <td>1012.6</td>\n",
       "      <td>114</td>\n",
       "    </tr>\n",
       "    <tr>\n",
       "      <td>1</td>\n",
       "      <td>0.33</td>\n",
       "      <td>0.0</td>\n",
       "      <td>107.0</td>\n",
       "      <td>58</td>\n",
       "      <td>41.3</td>\n",
       "      <td>61.0</td>\n",
       "      <td>99.9</td>\n",
       "      <td>-3.9</td>\n",
       "      <td>-6.1</td>\n",
       "      <td>0.6</td>\n",
       "      <td>0</td>\n",
       "      <td>25</td>\n",
       "      <td>355</td>\n",
       "      <td>13.5</td>\n",
       "      <td>0</td>\n",
       "      <td>1023.4</td>\n",
       "      <td>0</td>\n",
       "    </tr>\n",
       "    <tr>\n",
       "      <td>2</td>\n",
       "      <td>0.35</td>\n",
       "      <td>0.0</td>\n",
       "      <td>381.0</td>\n",
       "      <td>31.7</td>\n",
       "      <td>20.1</td>\n",
       "      <td>41.0</td>\n",
       "      <td>34.6</td>\n",
       "      <td>3.3</td>\n",
       "      <td>-2.2</td>\n",
       "      <td>4.4</td>\n",
       "      <td>0</td>\n",
       "      <td>0</td>\n",
       "      <td>285</td>\n",
       "      <td>20.5</td>\n",
       "      <td>0</td>\n",
       "      <td>1012.3</td>\n",
       "      <td>0</td>\n",
       "    </tr>\n",
       "    <tr>\n",
       "      <td>3</td>\n",
       "      <td>0.00</td>\n",
       "      <td>0.0</td>\n",
       "      <td>0.0</td>\n",
       "      <td>0</td>\n",
       "      <td>0.0</td>\n",
       "      <td>0.0</td>\n",
       "      <td>0.0</td>\n",
       "      <td>9.7</td>\n",
       "      <td>3.3</td>\n",
       "      <td>16.7</td>\n",
       "      <td>0</td>\n",
       "      <td>0</td>\n",
       "      <td>0</td>\n",
       "      <td>7.9</td>\n",
       "      <td>0</td>\n",
       "      <td>1020.8</td>\n",
       "      <td>0</td>\n",
       "    </tr>\n",
       "    <tr>\n",
       "      <td>4</td>\n",
       "      <td>0.34</td>\n",
       "      <td>0.0</td>\n",
       "      <td>581.0</td>\n",
       "      <td>57.5</td>\n",
       "      <td>10.8</td>\n",
       "      <td>38.2</td>\n",
       "      <td>22.7</td>\n",
       "      <td>-9.8</td>\n",
       "      <td>-13.8</td>\n",
       "      <td>-6.2</td>\n",
       "      <td>0</td>\n",
       "      <td>51</td>\n",
       "      <td>0</td>\n",
       "      <td>2.8</td>\n",
       "      <td>0</td>\n",
       "      <td>1026.3</td>\n",
       "      <td>0</td>\n",
       "    </tr>\n",
       "    <tr>\n",
       "      <td>...</td>\n",
       "      <td>...</td>\n",
       "      <td>...</td>\n",
       "      <td>...</td>\n",
       "      <td>...</td>\n",
       "      <td>...</td>\n",
       "      <td>...</td>\n",
       "      <td>...</td>\n",
       "      <td>...</td>\n",
       "      <td>...</td>\n",
       "      <td>...</td>\n",
       "      <td>...</td>\n",
       "      <td>...</td>\n",
       "      <td>...</td>\n",
       "      <td>...</td>\n",
       "      <td>...</td>\n",
       "      <td>...</td>\n",
       "      <td>...</td>\n",
       "    </tr>\n",
       "    <tr>\n",
       "      <td>209</td>\n",
       "      <td>0.35</td>\n",
       "      <td>0.0</td>\n",
       "      <td>4.0</td>\n",
       "      <td>100</td>\n",
       "      <td>100.0</td>\n",
       "      <td>92.1</td>\n",
       "      <td>100.0</td>\n",
       "      <td>11</td>\n",
       "      <td>8</td>\n",
       "      <td>12</td>\n",
       "      <td>0</td>\n",
       "      <td>0</td>\n",
       "      <td>222</td>\n",
       "      <td>20.6</td>\n",
       "      <td>0</td>\n",
       "      <td>1001.7</td>\n",
       "      <td>0</td>\n",
       "    </tr>\n",
       "    <tr>\n",
       "      <td>210</td>\n",
       "      <td>0.00</td>\n",
       "      <td>0.0</td>\n",
       "      <td>0.0</td>\n",
       "      <td>0</td>\n",
       "      <td>0.0</td>\n",
       "      <td>0.0</td>\n",
       "      <td>0.0</td>\n",
       "      <td>14.7</td>\n",
       "      <td>6.1</td>\n",
       "      <td>27.2</td>\n",
       "      <td>0</td>\n",
       "      <td>0</td>\n",
       "      <td>0</td>\n",
       "      <td>6.1</td>\n",
       "      <td>0</td>\n",
       "      <td>1019.6</td>\n",
       "      <td>0</td>\n",
       "    </tr>\n",
       "    <tr>\n",
       "      <td>211</td>\n",
       "      <td>0.00</td>\n",
       "      <td>0.0</td>\n",
       "      <td>5.0</td>\n",
       "      <td>98</td>\n",
       "      <td>100.0</td>\n",
       "      <td>100.0</td>\n",
       "      <td>99.1</td>\n",
       "      <td>-0.1</td>\n",
       "      <td>-6.7</td>\n",
       "      <td>2.8</td>\n",
       "      <td>0</td>\n",
       "      <td>102</td>\n",
       "      <td>274</td>\n",
       "      <td>23</td>\n",
       "      <td>0</td>\n",
       "      <td>1008.6</td>\n",
       "      <td>313</td>\n",
       "    </tr>\n",
       "    <tr>\n",
       "      <td>212</td>\n",
       "      <td>0.36</td>\n",
       "      <td>0.0</td>\n",
       "      <td>86.0</td>\n",
       "      <td>17</td>\n",
       "      <td>85.4</td>\n",
       "      <td>100.0</td>\n",
       "      <td>12.2</td>\n",
       "      <td>1.8</td>\n",
       "      <td>-1.7</td>\n",
       "      <td>6.1</td>\n",
       "      <td>0</td>\n",
       "      <td>0</td>\n",
       "      <td>34</td>\n",
       "      <td>1.8</td>\n",
       "      <td>0</td>\n",
       "      <td>1030.8</td>\n",
       "      <td>0</td>\n",
       "    </tr>\n",
       "    <tr>\n",
       "      <td>213</td>\n",
       "      <td>0.34</td>\n",
       "      <td>0.0</td>\n",
       "      <td>17.0</td>\n",
       "      <td>15.3</td>\n",
       "      <td>98.6</td>\n",
       "      <td>96.0</td>\n",
       "      <td>90.6</td>\n",
       "      <td>-7.7</td>\n",
       "      <td>-13.8</td>\n",
       "      <td>-0.4</td>\n",
       "      <td>0</td>\n",
       "      <td>0</td>\n",
       "      <td>0</td>\n",
       "      <td>0</td>\n",
       "      <td>0</td>\n",
       "      <td>0</td>\n",
       "      <td>0</td>\n",
       "    </tr>\n",
       "  </tbody>\n",
       "</table>\n",
       "<p>214 rows × 17 columns</p>\n",
       "</div>"
      ],
      "text/plain": [
       "     GreenPct  NearBodyOfWater   Rank Overall Score  \\\n",
       "0        0.00              0.0   64.0          70.1   \n",
       "1        0.33              0.0  107.0            58   \n",
       "2        0.35              0.0  381.0          31.7   \n",
       "3        0.00              0.0    0.0             0   \n",
       "4        0.34              0.0  581.0          57.5   \n",
       "..        ...              ...    ...           ...   \n",
       "209      0.35              0.0    4.0           100   \n",
       "210      0.00              0.0    0.0             0   \n",
       "211      0.00              0.0    5.0            98   \n",
       "212      0.36              0.0   86.0            17   \n",
       "213      0.34              0.0   17.0          15.3   \n",
       "\n",
       "     Academic Reputation Score  Citations per Faculty  Faculty Student Ratio  \\\n",
       "0                         92.8                   50.0                   52.7   \n",
       "1                         41.3                   61.0                   99.9   \n",
       "2                         20.1                   41.0                   34.6   \n",
       "3                          0.0                    0.0                    0.0   \n",
       "4                         10.8                   38.2                   22.7   \n",
       "..                         ...                    ...                    ...   \n",
       "209                      100.0                   92.1                  100.0   \n",
       "210                        0.0                    0.0                    0.0   \n",
       "211                      100.0                  100.0                   99.1   \n",
       "212                       85.4                  100.0                   12.2   \n",
       "213                       98.6                   96.0                   90.6   \n",
       "\n",
       "     tavg   tmin  tmax prcp snow wdir  wspd  wpgt    pres tsun  \n",
       "0     3.9   -1.9   8.5  3.2    0  227  11.2  47.9  1012.6  114  \n",
       "1    -3.9   -6.1   0.6    0   25  355  13.5     0  1023.4    0  \n",
       "2     3.3   -2.2   4.4    0    0  285  20.5     0  1012.3    0  \n",
       "3     9.7    3.3  16.7    0    0    0   7.9     0  1020.8    0  \n",
       "4    -9.8  -13.8  -6.2    0   51    0   2.8     0  1026.3    0  \n",
       "..    ...    ...   ...  ...  ...  ...   ...   ...     ...  ...  \n",
       "209    11      8    12    0    0  222  20.6     0  1001.7    0  \n",
       "210  14.7    6.1  27.2    0    0    0   6.1     0  1019.6    0  \n",
       "211  -0.1   -6.7   2.8    0  102  274    23     0  1008.6  313  \n",
       "212   1.8   -1.7   6.1    0    0   34   1.8     0  1030.8    0  \n",
       "213  -7.7  -13.8  -0.4    0    0    0     0     0       0    0  \n",
       "\n",
       "[214 rows x 17 columns]"
      ]
     },
     "execution_count": 17,
     "metadata": {},
     "output_type": "execute_result"
    }
   ],
   "source": [
    "df_train"
   ]
  },
  {
   "cell_type": "code",
   "execution_count": 51,
   "metadata": {},
   "outputs": [],
   "source": [
    " df_train_attribute = df_train_attribute.apply(pd.to_numeric, errors='coerce').fillna(0)"
   ]
  },
  {
   "cell_type": "code",
   "execution_count": null,
   "metadata": {},
   "outputs": [],
   "source": [
    "#split the dataset for training and testing \n",
    "from sklearn.model_selection import train_test_split\n",
    "X_train, X_test, y_train, y_test = train_test_split(df_train_attribute, df_train_label, test_size=0.4, random_state=42)"
   ]
  },
  {
   "cell_type": "code",
   "execution_count": 201,
   "metadata": {},
   "outputs": [],
   "source": [
    "#Kmean\n",
    "from sklearn.cluster import KMeans\n",
    "mykmeans= KMeans(n_clusters=3, random_state=123) \n",
    "#random_state will comtrol the initialization of the cluster centers\n",
    "#if we fix ramdom state then the result from K-means are always consistent\n",
    "y_pred=mykmeans.fit(df_train_attribute)"
   ]
  },
  {
   "cell_type": "code",
   "execution_count": null,
   "metadata": {},
   "outputs": [],
   "source": []
  },
  {
   "cell_type": "code",
   "execution_count": 112,
   "metadata": {},
   "outputs": [
    {
     "name": "stdout",
     "output_type": "stream",
     "text": [
      "Fitting 3 folds for each of 5 candidates, totalling 15 fits\n"
     ]
    },
    {
     "name": "stderr",
     "output_type": "stream",
     "text": [
      "[Parallel(n_jobs=2)]: Using backend LokyBackend with 2 concurrent workers.\n",
      "[Parallel(n_jobs=2)]: Done   1 tasks      | elapsed:    0.0s\n",
      "[Parallel(n_jobs=2)]: Batch computation too fast (0.0348s.) Setting batch_size=10.\n",
      "[Parallel(n_jobs=2)]: Done   4 out of  15 | elapsed:    0.1s remaining:    0.2s\n",
      "[Parallel(n_jobs=2)]: Done  15 out of  15 | elapsed:    0.1s finished\n",
      "/Users/Malfoy/anaconda3/lib/python3.6/site-packages/sklearn/model_selection/_search.py:814: DeprecationWarning: The default of the `iid` parameter will change from True to False in version 0.22 and will be removed in 0.24. This will change numeric results when test-set sizes are unequal.\n",
      "  DeprecationWarning)\n"
     ]
    },
    {
     "data": {
      "text/plain": [
       "GridSearchCV(cv=3, error_score='raise-deprecating',\n",
       "             estimator=KNeighborsClassifier(algorithm='auto', leaf_size=30,\n",
       "                                            metric='minkowski',\n",
       "                                            metric_params=None, n_jobs=None,\n",
       "                                            n_neighbors=5, p=2,\n",
       "                                            weights='uniform'),\n",
       "             iid='warn', n_jobs=2,\n",
       "             param_grid={'metric': ['manhattan'],\n",
       "                         'n_neighbors': [19, 21, 23, 25, 27]},\n",
       "             pre_dispatch='2*n_jobs', refit=True, return_train_score=False,\n",
       "             scoring='roc_auc', verbose=10)"
      ]
     },
     "execution_count": 112,
     "metadata": {},
     "output_type": "execute_result"
    }
   ],
   "source": [
    "#KNN\n",
    "#find the best option for n value\n",
    "#tuned_parameters={'n_neighbors': [3, 5, 10],\n",
    "                 #'metric' : ['euclidean', 'chebyshev']} #dictionary format\n",
    "tuned_parameters={'n_neighbors': [19,21,23,25,27 ],\n",
    "                  'metric' : ['manhattan']} #dictionary format\n",
    "\n",
    "#括号里的为尝试的k值，metric里面的为distance的方法\n",
    "\n",
    "from sklearn.model_selection import GridSearchCV\n",
    "#GridSearchCV will carry out a procedure to select the bestparameters\n",
    "#among tuned_parameters based on the machine learning CV performances\n",
    "from sklearn.neighbors import KNeighborsClassifier\n",
    "#cv; number pf folds, n_jobs: # of cpus\n",
    "_mykNN = KNeighborsClassifier()\n",
    "mykNN = GridSearchCV(_mykNN, tuned_parameters, cv=3, \n",
    "                    scoring='roc_auc',\n",
    "                    verbose=10,\n",
    "                    n_jobs=2)\n",
    "mykNN.fit(df_train_attribute, df_train_label)"
   ]
  },
  {
   "cell_type": "code",
   "execution_count": 113,
   "metadata": {},
   "outputs": [
    {
     "data": {
      "text/plain": [
       "{'metric': 'manhattan', 'n_neighbors': 23}"
      ]
     },
     "execution_count": 113,
     "metadata": {},
     "output_type": "execute_result"
    }
   ],
   "source": [
    "mykNN.best_params_"
   ]
  },
  {
   "cell_type": "code",
   "execution_count": 118,
   "metadata": {},
   "outputs": [
    {
     "name": "stdout",
     "output_type": "stream",
     "text": [
      "0.6162790697674418\n",
      "0.627906976744186\n",
      "0.6046511627906976\n",
      "0.6162790697674418\n"
     ]
    }
   ],
   "source": [
    "# KNN\n",
    "from sklearn.metrics import accuracy_score\n",
    "from sklearn.neighbors import KNeighborsClassifier\n",
    "from sklearn.svm import SVC\n",
    "\n",
    "#try different distance method\n",
    "metrics = [\"euclidean\",\"manhattan\",\"chebyshev\",\"minkowski\"]\n",
    "#cv; number pf folds, n_jobs: # of cpus\n",
    "for i in metrics:b\n",
    "    mykNN = KNeighborsClassifier(n_neighbors=23, metric=i)\n",
    "    mykNN.fit(X_train,  y_train)\n",
    "    y_pred = mykNN.predict(X_test)\n",
    "    print(accuracy_score(y_test, y_pred))"
   ]
  },
  {
   "cell_type": "code",
   "execution_count": 194,
   "metadata": {},
   "outputs": [],
   "source": [
    "mykNN = KNeighborsClassifier(n_neighbors=23, metric='manhattan')\n",
    "mykNN.fit(X_train,  y_train)\n",
    "y_pred = mykNN.predict(X_test)"
   ]
  },
  {
   "cell_type": "code",
   "execution_count": 186,
   "metadata": {},
   "outputs": [],
   "source": [
    "# SVM with linear\n",
    "mySVM = SVC(kernel='linear', C=0.5)\n",
    "mySVM.fit(X_train, y_train)\n",
    "y_pred = mySVM.predict(X_test)"
   ]
  },
  {
   "cell_type": "code",
   "execution_count": 122,
   "metadata": {},
   "outputs": [
    {
     "data": {
      "text/plain": [
       "0.5813953488372093"
      ]
     },
     "execution_count": 122,
     "metadata": {},
     "output_type": "execute_result"
    }
   ],
   "source": [
    "from sklearn.metrics import accuracy_score\n",
    "accuracy_score(y_test, y_pred)"
   ]
  },
  {
   "cell_type": "code",
   "execution_count": 190,
   "metadata": {},
   "outputs": [
    {
     "data": {
      "text/plain": [
       "0.6046511627906976"
      ]
     },
     "execution_count": 190,
     "metadata": {},
     "output_type": "execute_result"
    }
   ],
   "source": [
    "# SVM with rbf\n",
    "mySVM = SVC(kernel='rbf', C=0.5, gamma=1.0)\n",
    "mySVM.fit(X_train, y_train)\n",
    "y_pred = mySVM.predict(X_test)\n",
    "accuracy_score(y_test, y_pred)"
   ]
  },
  {
   "cell_type": "code",
   "execution_count": 191,
   "metadata": {},
   "outputs": [
    {
     "data": {
      "text/plain": [
       "0.5116279069767442"
      ]
     },
     "execution_count": 191,
     "metadata": {},
     "output_type": "execute_result"
    }
   ],
   "source": [
    "# SVM with sigmoid\n",
    "mySVM = SVC(kernel='sigmoid', C=0.5, gamma=1.0, coef0=1)\n",
    "mySVM.fit(X_train, y_train)\n",
    "y_pred = mySVM.predict(X_test)\n",
    "accuracy_score(y_test, y_pred)"
   ]
  },
  {
   "cell_type": "code",
   "execution_count": null,
   "metadata": {},
   "outputs": [],
   "source": []
  },
  {
   "cell_type": "code",
   "execution_count": null,
   "metadata": {},
   "outputs": [],
   "source": []
  },
  {
   "cell_type": "code",
   "execution_count": null,
   "metadata": {},
   "outputs": [],
   "source": [
    "#Random Forest"
   ]
  },
  {
   "cell_type": "code",
   "execution_count": 141,
   "metadata": {},
   "outputs": [],
   "source": [
    "#find the best option for n\n",
    "my_n_estimators = [50, 100, 200, 300]\n",
    "my_oob_scores = []\n",
    "from sklearn.ensemble import RandomForestClassifier\n",
    "for n_estimators in my_n_estimators:\n",
    "    myRF = RandomForestClassifier(n_estimators=n_estimators, \n",
    "                                  max_features=None,  random_state=123, \n",
    "                                  oob_score=True,\n",
    "                                 n_jobs=1)\n",
    "    myRF.fit(X_train, y_train)\n",
    "    my_oob_scores.append([n_estimators, myRF.oob_score_])"
   ]
  },
  {
   "cell_type": "code",
   "execution_count": 142,
   "metadata": {},
   "outputs": [
    {
     "data": {
      "text/plain": [
       "[[50, 0.59375], [100, 0.53125], [200, 0.59375], [300, 0.59375]]"
      ]
     },
     "execution_count": 142,
     "metadata": {},
     "output_type": "execute_result"
    }
   ],
   "source": [
    "# check and select  n_estimators give the best oob_score\n",
    "my_oob_scores"
   ]
  },
  {
   "cell_type": "code",
   "execution_count": 143,
   "metadata": {},
   "outputs": [],
   "source": [
    "#find the best option for # of features\n",
    "n_estimatores_best = 200\n",
    "my_max_features = [1, 2, 3, 4, 5, 6, 7,8,9,10,11,12,13,14,15,16,17] #range(1, 8); \n",
    "#range(1, X_train.shape[1])\n",
    "my_oob_scores = []\n",
    "for max_features in my_max_features:\n",
    "    myRF = RandomForestClassifier(n_estimators=n_estimatores_best,\n",
    "                                  max_features=max_features,  \n",
    "                                  random_state=123, oob_score=True)\n",
    "    myRF.fit(X_train, y_train)\n",
    "    my_oob_scores.append([max_features, myRF.oob_score_])"
   ]
  },
  {
   "cell_type": "code",
   "execution_count": 144,
   "metadata": {},
   "outputs": [
    {
     "data": {
      "text/plain": [
       "[[1, 0.5625],\n",
       " [2, 0.5546875],\n",
       " [3, 0.53125],\n",
       " [4, 0.515625],\n",
       " [5, 0.5390625],\n",
       " [6, 0.5078125],\n",
       " [7, 0.53125],\n",
       " [8, 0.5390625],\n",
       " [9, 0.515625],\n",
       " [10, 0.5234375],\n",
       " [11, 0.53125],\n",
       " [12, 0.5546875],\n",
       " [13, 0.5078125],\n",
       " [14, 0.546875],\n",
       " [15, 0.53125],\n",
       " [16, 0.5703125],\n",
       " [17, 0.59375]]"
      ]
     },
     "execution_count": 144,
     "metadata": {},
     "output_type": "execute_result"
    }
   ],
   "source": [
    "my_oob_scores"
   ]
  },
  {
   "cell_type": "code",
   "execution_count": 203,
   "metadata": {},
   "outputs": [
    {
     "data": {
      "text/plain": [
       "RandomForestClassifier(bootstrap=True, class_weight=None, criterion='gini',\n",
       "                       max_depth=None, max_features=17, max_leaf_nodes=None,\n",
       "                       min_impurity_decrease=0.0, min_impurity_split=None,\n",
       "                       min_samples_leaf=1, min_samples_split=2,\n",
       "                       min_weight_fraction_leaf=0.0, n_estimators=200,\n",
       "                       n_jobs=None, oob_score=True, random_state=123, verbose=0,\n",
       "                       warm_start=False)"
      ]
     },
     "execution_count": 203,
     "metadata": {},
     "output_type": "execute_result"
    }
   ],
   "source": [
    "#Run Random Forest with feature of 17  and n of 200\n",
    "max_features_best = 17\n",
    "myRF = RandomForestClassifier(n_estimators=n_estimatores_best,\n",
    "                              max_features=max_features_best,  \n",
    "                              random_state=123, oob_score=True)\n",
    "myRF.fit(X_train, y_train)"
   ]
  },
  {
   "cell_type": "code",
   "execution_count": 204,
   "metadata": {},
   "outputs": [],
   "source": [
    "y_pred = myRF.predict(X_test)"
   ]
  },
  {
   "cell_type": "code",
   "execution_count": 160,
   "metadata": {},
   "outputs": [
    {
     "data": {
      "text/plain": [
       "0.627906976744186"
      ]
     },
     "execution_count": 160,
     "metadata": {},
     "output_type": "execute_result"
    }
   ],
   "source": [
    "accuracy_score(y_test, y_pred)"
   ]
  },
  {
   "cell_type": "code",
   "execution_count": null,
   "metadata": {},
   "outputs": [],
   "source": []
  },
  {
   "cell_type": "code",
   "execution_count": null,
   "metadata": {},
   "outputs": [],
   "source": [
    "# Feature importance graph"
   ]
  },
  {
   "cell_type": "code",
   "execution_count": 161,
   "metadata": {},
   "outputs": [],
   "source": [
    "importances = myRF.feature_importances_"
   ]
  },
  {
   "cell_type": "code",
   "execution_count": 162,
   "metadata": {},
   "outputs": [
    {
     "data": {
      "text/plain": [
       "array([0.08482431, 0.00769762, 0.0757698 , 0.06398358, 0.06836095,\n",
       "       0.08948712, 0.12000907, 0.07619042, 0.11845971, 0.09746041,\n",
       "       0.01121159, 0.0186117 , 0.0213221 , 0.09401153, 0.00091173,\n",
       "       0.05124694, 0.00044142])"
      ]
     },
     "execution_count": 162,
     "metadata": {},
     "output_type": "execute_result"
    }
   ],
   "source": [
    "importances"
   ]
  },
  {
   "cell_type": "code",
   "execution_count": 164,
   "metadata": {},
   "outputs": [
    {
     "data": {
      "text/plain": [
       "array([ 6,  8,  9, 13,  5,  0,  7,  2,  4,  3, 15, 12, 11, 10,  1, 14, 16])"
      ]
     },
     "execution_count": 164,
     "metadata": {},
     "output_type": "execute_result"
    }
   ],
   "source": [
    "indices = np.argsort(importances)[::-1]\n",
    "indices"
   ]
  },
  {
   "cell_type": "code",
   "execution_count": 172,
   "metadata": {},
   "outputs": [],
   "source": [
    "feature_names = list(X_train)"
   ]
  },
  {
   "cell_type": "code",
   "execution_count": 173,
   "metadata": {},
   "outputs": [
    {
     "data": {
      "text/plain": [
       "['GreenPct',\n",
       " 'NearBodyOfWater',\n",
       " 'Rank',\n",
       " 'Overall Score',\n",
       " 'Academic Reputation Score',\n",
       " 'Citations per Faculty',\n",
       " 'Faculty Student Ratio',\n",
       " 'tavg',\n",
       " 'tmin',\n",
       " 'tmax',\n",
       " 'prcp',\n",
       " 'snow',\n",
       " 'wdir',\n",
       " 'wspd',\n",
       " 'wpgt',\n",
       " 'pres',\n",
       " 'tsun']"
      ]
     },
     "execution_count": 173,
     "metadata": {},
     "output_type": "execute_result"
    }
   ],
   "source": [
    "feature_names"
   ]
  },
  {
   "cell_type": "code",
   "execution_count": 175,
   "metadata": {},
   "outputs": [
    {
     "data": {
      "text/plain": [
       "['Faculty Student Ratio',\n",
       " 'tmin',\n",
       " 'tmax',\n",
       " 'wspd',\n",
       " 'Citations per Faculty',\n",
       " 'GreenPct',\n",
       " 'tavg',\n",
       " 'Rank',\n",
       " 'Academic Reputation Score',\n",
       " 'Overall Score',\n",
       " 'pres',\n",
       " 'wdir',\n",
       " 'snow',\n",
       " 'prcp',\n",
       " 'NearBodyOfWater',\n",
       " 'wpgt',\n",
       " 'tsun']"
      ]
     },
     "execution_count": 175,
     "metadata": {},
     "output_type": "execute_result"
    }
   ],
   "source": [
    "ordered_feature_names = [feature_names[i] for i in indices]\n",
    "ordered_feature_names"
   ]
  },
  {
   "cell_type": "code",
   "execution_count": 181,
   "metadata": {},
   "outputs": [
    {
     "data": {
      "image/png": "[encoded data removed]",
      "text/plain": [
       "<Figure size 2520x720 with 1 Axes>"
      ]
     },
     "metadata": {},
     "output_type": "display_data"
    }
   ],
   "source": [
    "sns.set()\n",
    "plt.figure(figsize=(35,10))\n",
    "plt.title(\"Feature importances\")\n",
    "plt.bar(range(X_train.shape[1]), importances[indices], color=\"r\", align=\"center\")\n",
    "plt.xticks(range(X_train.shape[1]), ordered_feature_names)\n",
    "plt.xlim([-1, X_train.shape[1]])\n",
    "plt.show()"
   ]
  },
  {
   "cell_type": "code",
   "execution_count": 187,
   "metadata": {
    "scrolled": true
   },
   "outputs": [
    {
     "data": {
      "text/plain": [
       "Text(0.5, 1, 'Feature Correlations')"
      ]
     },
     "execution_count": 187,
     "metadata": {},
     "output_type": "execute_result"
    },
    {
     "data": {
      "image/png": "[encoded data removed]",
      "text/plain": [
       "<Figure size 1080x1080 with 2 Axes>"
      ]
     },
     "metadata": {},
     "output_type": "display_data"
    }
   ],
   "source": [
    "sns.set()\n",
    "plt.figure(figsize=(15,15))\n",
    "sns.heatmap(df_train_attribute.corr(), annot=True,  cmap='coolwarm')\n",
    "plt.title(\"Feature Correlations\", fontsize = 25)"
   ]
  },
  {
   "cell_type": "code",
   "execution_count": 182,
   "metadata": {},
   "outputs": [
    {
     "name": "stderr",
     "output_type": "stream",
     "text": [
      "/Users/Malfoy/anaconda3/lib/python3.6/site-packages/sklearn/metrics/classification.py:635: DeprecationWarning: jaccard_similarity_score has been deprecated and replaced with jaccard_score. It will be removed in version 0.23. This implementation has surprising behavior for binary and multiclass classification tasks.\n",
      "  'and multiclass classification tasks.', DeprecationWarning)\n"
     ]
    },
    {
     "data": {
      "text/plain": [
       "0.627906976744186"
      ]
     },
     "execution_count": 182,
     "metadata": {},
     "output_type": "execute_result"
    }
   ],
   "source": [
    "# for jaccard_similarity_score\n",
    "import numpy as np\n",
    "from sklearn.metrics import jaccard_similarity_score\n",
    "jaccard_similarity_score(y_test, y_pred)"
   ]
  },
  {
   "cell_type": "code",
   "execution_count": 185,
   "metadata": {},
   "outputs": [
    {
     "name": "stderr",
     "output_type": "stream",
     "text": [
      "/Users/Malfoy/anaconda3/lib/python3.6/site-packages/sklearn/metrics/classification.py:635: DeprecationWarning: jaccard_similarity_score has been deprecated and replaced with jaccard_score. It will be removed in version 0.23. This implementation has surprising behavior for binary and multiclass classification tasks.\n",
      "  'and multiclass classification tasks.', DeprecationWarning)\n"
     ]
    },
    {
     "data": {
      "text/plain": [
       "54"
      ]
     },
     "execution_count": 185,
     "metadata": {},
     "output_type": "execute_result"
    }
   ],
   "source": [
    "jaccard_similarity_score(y_test, y_pred, normalize=False)"
   ]
  },
  {
   "cell_type": "code",
   "execution_count": null,
   "metadata": {},
   "outputs": [],
   "source": [
    "#result for jaccard_simmilarity_score"
   ]
  },
  {
   "cell_type": "code",
   "execution_count": null,
   "metadata": {},
   "outputs": [],
   "source": [
    "#jaccard_similarity_score for SVM with rbf :0.6046511627906976\n",
    "#jaccard_similarity_score for KNN with manhattan and n of 23 :0.627906976744186\n",
    "#jaccard_similarity_score for  Random Forest: 0.627906976744186"
   ]
  }
 ],
 "metadata": {
  "kernelspec": {
   "display_name": "Python 3",
   "language": "python",
   "name": "python3"
  },
  "language_info": {
   "codemirror_mode": {
    "name": "ipython",
    "version": 3
   },
   "file_extension": ".py",
   "mimetype": "text/x-python",
   "name": "python",
   "nbconvert_exporter": "python",
   "pygments_lexer": "ipython3",
   "version": "3.6.9"
  }
 },
 "nbformat": 4,
 "nbformat_minor": 2
}
