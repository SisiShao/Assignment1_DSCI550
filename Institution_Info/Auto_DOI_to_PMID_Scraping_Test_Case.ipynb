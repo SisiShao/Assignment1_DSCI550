{
 "cells": [
  {
   "cell_type": "markdown",
   "id": "1c873309",
   "metadata": {},
   "source": [
    "# The purpose of this test case is to convince you the method described in *Auto_DOI_To_PMID_API.ipynb* through randomly picking one DOI, in this case is *'10.1002/ijc.27627'*."
   ]
  },
  {
   "cell_type": "code",
   "execution_count": 1,
   "id": "6208e6f1",
   "metadata": {},
   "outputs": [],
   "source": [
    "from selenium import webdriver\n",
    "from webdriver_manager.chrome import ChromeDriverManager\n",
    "\n"
   ]
  },
  {
   "cell_type": "code",
   "execution_count": 2,
   "id": "f621c796",
   "metadata": {},
   "outputs": [],
   "source": [
    "e = '10.1002/ijc.27627'\n",
    "PMID = {}"
   ]
  },
  {
   "cell_type": "code",
   "execution_count": 3,
   "id": "f0e866bb",
   "metadata": {},
   "outputs": [
    {
     "name": "stderr",
     "output_type": "stream",
     "text": [
      "\n",
      "\n",
      "====== WebDriver manager ======\n",
      "Current google-chrome version is 99.0.4844\n",
      "Get LATEST chromedriver version for 99.0.4844 google-chrome\n",
      "Trying to download new driver from https://chromedriver.storage.googleapis.com/99.0.4844.51/chromedriver_mac64.zip\n",
      "Driver has been saved in cache [/Users/sisishao/.wdm/drivers/chromedriver/mac64/99.0.4844.51]\n",
      "/var/folders/b7/n5m_sxh130z8p6mbktn1pnp40000gn/T/ipykernel_9094/4051996267.py:1: DeprecationWarning: executable_path has been deprecated, please pass in a Service object\n",
      "  driver = webdriver.Chrome(ChromeDriverManager().install())\n",
      "/var/folders/b7/n5m_sxh130z8p6mbktn1pnp40000gn/T/ipykernel_9094/4051996267.py:4: DeprecationWarning: find_element_by_xpath is deprecated. Please use find_element(by=By.XPATH, value=xpath) instead\n",
      "  button = driver.find_element_by_xpath('//input[@placeholder=\"Please enter DOI\"]').send_keys(e)\n",
      "/var/folders/b7/n5m_sxh130z8p6mbktn1pnp40000gn/T/ipykernel_9094/4051996267.py:5: DeprecationWarning: find_element_by_xpath is deprecated. Please use find_element(by=By.XPATH, value=xpath) instead\n",
      "  button2 = driver.find_element_by_xpath('//button').click()\n",
      "/var/folders/b7/n5m_sxh130z8p6mbktn1pnp40000gn/T/ipykernel_9094/4051996267.py:6: DeprecationWarning: find_elements_by_xpath is deprecated. Please use find_elements(by=By.XPATH, value=xpath) instead\n",
      "  result = driver.find_elements_by_xpath('//a[@target=\"_blank\"]')\n"
     ]
    }
   ],
   "source": [
    "\n",
    "driver = webdriver.Chrome(ChromeDriverManager().install())\n",
    "driver.get(\"https://www.pmid2cite.com/doi-to-pmid-converter\")\n",
    "try:\n",
    "    button = driver.find_element_by_xpath('//input[@placeholder=\"Please enter DOI\"]').send_keys(e)\n",
    "    button2 = driver.find_element_by_xpath('//button').click()\n",
    "    result = driver.find_elements_by_xpath('//a[@target=\"_blank\"]')\n",
    "    for r in result:\n",
    "        if r.text != '':\n",
    "            PMID[e] = r.text.strip()\n",
    "except:\n",
    "    PMID[e] = 'NA'"
   ]
  },
  {
   "cell_type": "code",
   "execution_count": 4,
   "id": "1fdef0c0",
   "metadata": {},
   "outputs": [
    {
     "data": {
      "text/plain": [
       "{'10.1002/ijc.27627': '22573407'}"
      ]
     },
     "execution_count": 4,
     "metadata": {},
     "output_type": "execute_result"
    }
   ],
   "source": [
    "PMID"
   ]
  }
 ],
 "metadata": {
  "kernelspec": {
   "display_name": "Python 3 (ipykernel)",
   "language": "python",
   "name": "python3"
  },
  "language_info": {
   "codemirror_mode": {
    "name": "ipython",
    "version": 3
   },
   "file_extension": ".py",
   "mimetype": "text/x-python",
   "name": "python",
   "nbconvert_exporter": "python",
   "pygments_lexer": "ipython3",
   "version": "3.9.7"
  }
 },
 "nbformat": 4,
 "nbformat_minor": 5
}
