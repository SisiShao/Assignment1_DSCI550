{
 "cells": [
  {
   "cell_type": "code",
   "execution_count": 1,
   "id": "c5d931e4",
   "metadata": {},
   "outputs": [],
   "source": [
    "import csv\n",
    "\n",
    "with open('Bik dataset','r') as csvin, open('Bik dataset TSV', 'w') as tsvout:\n",
    "    csvin = csv.reader(csvin)\n",
    "    tsvout = csv.writer(tsvout, delimiter='\\t')\n",
    "    for row in csvin:\n",
    "        tsvout.writerow(row)"
   ]
  },
  {
   "cell_type": "code",
   "execution_count": 2,
   "id": "bf94940e",
   "metadata": {},
   "outputs": [],
   "source": [
    "import pandas as pd\n",
    "tsv_df = pd.read_csv(\"Bik dataset TSV\",delimiter='\\t',parse_dates = [\"Year\",\"Month\",\"Correction Date\"])"
   ]
  },
  {
   "cell_type": "code",
   "execution_count": 3,
   "id": "29624e71",
   "metadata": {},
   "outputs": [],
   "source": [
    "tsv_df = tsv_df.drop(['Month'], axis = 1)"
   ]
  },
  {
   "cell_type": "code",
   "execution_count": 4,
   "id": "e5b36f75",
   "metadata": {},
   "outputs": [],
   "source": [
    "tsv_df[\"Year\"]=tsv_df[\"Year\"].dt.strftime(\"%m/%d/%y\")"
   ]
  },
  {
   "cell_type": "code",
   "execution_count": 5,
   "id": "13967174",
   "metadata": {},
   "outputs": [],
   "source": [
    "tsv_df['Correction Date']=tsv_df['Correction Date'].dt.strftime(\"%m/%d/%y\")"
   ]
  },
  {
   "cell_type": "code",
   "execution_count": 6,
   "id": "5310b766",
   "metadata": {},
   "outputs": [],
   "source": [
    "DOI_list = tsv_df.DOI.to_list()"
   ]
  },
  {
   "cell_type": "code",
   "execution_count": 7,
   "id": "96d195cb",
   "metadata": {},
   "outputs": [],
   "source": [
    "from habanero import Crossref\n",
    "from urllib.request import urlopen\n",
    "import requests\n",
    "import urllib.request\n",
    "from bs4 import BeautifulSoup"
   ]
  },
  {
   "cell_type": "markdown",
   "id": "2caee514",
   "metadata": {},
   "source": [
    "# The <font color='red'>mapp dictionary </font>  is obtained from <font color='red'>*Auto_API_way.ipynb*.</font> "
   ]
  },
  {
   "cell_type": "code",
   "execution_count": 8,
   "id": "c8e202cc",
   "metadata": {},
   "outputs": [],
   "source": [
    "mapp ={'10.1002/ijc.27627':'https://pubmed.ncbi.nlm.nih.gov/22573407/',\n",
    "          '10.1002/ijc.27863':'https://pubmed.ncbi.nlm.nih.gov/23001755/',\n",
    "         '10.1002/ijc.27730':'https://pubmed.ncbi.nlm.nih.gov/22815231/',\n",
    "         '10.1002/ijc.27927':'https://pubmed.ncbi.nlm.nih.gov/23129185/',\n",
    "         '10.1002/ijc.27917':'https://pubmed.ncbi.nlm.nih.gov/23114871/',\n",
    "         '10.1128/IAI.00805-10':'https://pubmed.ncbi.nlm.nih.gov/21321072/',\n",
    "         '10.1128/IAI.69.10.6131–6139.2001':'https://pubmed.ncbi.nlm.nih.gov/11553552/',\n",
    "         '10.1128/IAI.71.3.1209–1216.2003':'https://pubmed.ncbi.nlm.nih.gov/12595434/',\n",
    "         '10.1128/IAI.71.2.766–773.2003':'https://pubmed.ncbi.nlm.nih.gov/12540556/',\n",
    "         '10.1128/IAI.73.3.1754–1763.2005':'https://pubmed.ncbi.nlm.nih.gov/15731076/',\n",
    "         '10.1128/IAI.00206-12':'https://pubmed.ncbi.nlm.nih.gov/22615246/',\n",
    "         '10.1128/IAI.00013-12':'https://pubmed.ncbi.nlm.nih.gov/22615248/',\n",
    "          '10.1128/IAI.05798-11':'https://pubmed.ncbi.nlm.nih.gov/22038917/',\n",
    "          '10.1128/IAI.00063-12':'https://pubmed.ncbi.nlm.nih.gov/22585967/',\n",
    "          '10.1128/IAI.01165-12':'https://pubmed.ncbi.nlm.nih.gov/23357385/',\n",
    "      '10.1128/IAI.00539-13':'https://pubmed.ncbi.nlm.nih.gov/23940207/',\n",
    "      '10.1111/j.1365-2672.2010.04795.x':'https://pubmed.ncbi.nlm.nih.gov/20636343/',\n",
    "      '10.1111/j.1462-2920.2008.01842.x':'https://pubmed.ncbi.nlm.nih.gov/19170727/',\n",
    "      '10.1111/j.1462-2920.2012.02741.x':'https://pubmed.ncbi.nlm.nih.gov/22498339/',\n",
    "       '10.1111/j.1462-2920.2012.02788.x':'https://pubmed.ncbi.nlm.nih.gov/22640257/',\n",
    "       '10.1111/j.1348-0421.2010.00241.x':'https://pubmed.ncbi.nlm.nih.gov/20840156/',\n",
    "       '10.1111/j.1472-765X.2012.03263.x':'https://pubmed.ncbi.nlm.nih.gov/22563695/',\n",
    "       '10.1186/1471-2180-10-53':'https://pubmed.ncbi.nlm.nih.gov/20167112/',\n",
    "       '10.1186/1471-2180-13-113':'https://pubmed.ncbi.nlm.nih.gov/23701827/',\n",
    "       '10.1186/gb-2013-14-10-r121':'https://pubmed.ncbi.nlm.nih.gov/24176123/',\n",
    "       '10.1186/bcr3128':'https://pubmed.ncbi.nlm.nih.gov/22353783/',\n",
    "       '10.1186/bcr3201':'https://pubmed.ncbi.nlm.nih.gov/22632416/',\n",
    "       '10.1186/bcr3322':'https://pubmed.ncbi.nlm.nih.gov/22995475/',\n",
    "       '10.1186/bcr3200':'https://pubmed.ncbi.nlm.nih.gov/22621393/',\n",
    "       '10.1186/bcr3441':'https://pubmed.ncbi.nlm.nih.gov/23786849/',\n",
    "       '10.1186/bcr3692':'https://pubmed.ncbi.nlm.nih.gov/25022892/',\n",
    "       '10.1016/S0169-5002(01)00212-4':'https://pubmed.ncbi.nlm.nih.gov/11557119/',\n",
    "       '10.1016/S0169-5002(03)00239-3':'https://pubmed.ncbi.nlm.nih.gov/12928127/',\n",
    "       '10.1016/j.lungcan.2006.06.001':'https://pubmed.ncbi.nlm.nih.gov/16842883/',\n",
    "       '10.1016/j.lungcan.2006.06.006':'https://pubmed.ncbi.nlm.nih.gov/16860902/',\n",
    "       '10.1016/j.lungcan.2008.05.026':'https://pubmed.ncbi.nlm.nih.gov/18619705/',\n",
    "       '10.1016/j.lungcan.2009.06.013':'https://pubmed.ncbi.nlm.nih.gov/19615783/',\n",
    "       '10.1016/j.lungcan.2009.10.010':'https://pubmed.ncbi.nlm.nih.gov/19914733/',\n",
    "       '10.1016/j.lungcan.2011.01.012':'https://pubmed.ncbi.nlm.nih.gov/21333374/',\n",
    "       '10.1016/j.lungcan.2011.10.002':'https://pubmed.ncbi.nlm.nih.gov/22047961/',\n",
    "       '10.1016/j.jaut.2005.09.016':'https://pubmed.ncbi.nlm.nih.gov/16271292/',\n",
    "       '10.1016/j.jaut.2004.10.003':'https://pubmed.ncbi.nlm.nih.gov/15725579/',\n",
    "       '10.1016/j.jaut.2006.05.001':'https://pubmed.ncbi.nlm.nih.gov/16797160/',\n",
    "       '10.1016/j.jaut.2007.02.007':'https://pubmed.ncbi.nlm.nih.gov/17383158/',\n",
    "       '10.1016/j.jaut.2008.12.003':'https://pubmed.ncbi.nlm.nih.gov/19200691/',\n",
    "       '10.1016/j.jaut.2014.02.013':'https://pubmed.ncbi.nlm.nih.gov/24662148/',\n",
    "       '10.1016/j.cyto.2003.11.014':'https://pubmed.ncbi.nlm.nih.gov/15016405/',\n",
    "       '10.1016/j.cyto.2004.12.015':'https://pubmed.ncbi.nlm.nih.gov/15935953/',\n",
    "       '10.1016/j.cyto.2004.11.009':'https://pubmed.ncbi.nlm.nih.gov/15935952/',\n",
    "       '10.1016/j.cyto.2006.07.009':'https://pubmed.ncbi.nlm.nih.gov/16949835/',\n",
    "       '10.1016/j.cyto.2007.01.002':'https://pubmed.ncbi.nlm.nih.gov/17376698/',\n",
    "       '10.1016/j.cyto.2006.12.003':'https://pubmed.ncbi.nlm.nih.gov/17223607/',\n",
    "       '10.1016/j.cyto.2005.12.007':'https://pubmed.ncbi.nlm.nih.gov/16488623/',\n",
    "       '10.1016/j.cyto.2007.04.003':'https://pubmed.ncbi.nlm.nih.gov/17540578/',\n",
    "       '10.1016/j.cyto.2008.06.007':'https://pubmed.ncbi.nlm.nih.gov/18809337/',\n",
    "       '10.1016/j.cyto.2008.06.003':'https://pubmed.ncbi.nlm.nih.gov/18662886/',\n",
    "       '10.1016/j.cyto.2008.01.001':'https://pubmed.ncbi.nlm.nih.gov/18321765/',\n",
    "       '10.1016/j.cyto.2008.02.005':'https://pubmed.ncbi.nlm.nih.gov/18362077/',\n",
    "       '10.1016/j.cyto.2009.07.004':'https://pubmed.ncbi.nlm.nih.gov/19660963/',\n",
    "       '10.1016/j.cyto.2008.12.021':'https://pubmed.ncbi.nlm.nih.gov/19231232/',\n",
    "       '10.1016/j.cyto.2008.12.013':'https://pubmed.ncbi.nlm.nih.gov/19251437/',\n",
    "       '10.1016/j.cyto.2008.12.015':'https://pubmed.ncbi.nlm.nih.gov/19223199/',\n",
    "       '10.1016/j.cyto.2011.06.006':'https://pubmed.ncbi.nlm.nih.gov/21733716/',\n",
    "        '10.1016/j.cyto.2011.08.017':'https://pubmed.ncbi.nlm.nih.gov/21890375/',\n",
    "        '10.1016/j.cyto.2011.02.016':'https://pubmed.ncbi.nlm.nih.gov/21419645/',\n",
    "       '10.1016/j.cyto.2011.06.005':'https://pubmed.ncbi.nlm.nih.gov/21742513/',\n",
    "        '10.1016/j.cyto.2012.08.025':'https://pubmed.ncbi.nlm.nih.gov/23017228/',\n",
    "       '10.1016/j.cyto.2013.04.009':'https://pubmed.ncbi.nlm.nih.gov/23664770/',\n",
    "        '10.1016/j.cyto.2013.04.005':'https://pubmed.ncbi.nlm.nih.gov/23612013/',\n",
    "        '10.1016/j.cyto.2014.07.249':'https://pubmed.ncbi.nlm.nih.gov/25127907/',\n",
    "        '10.1038/34214':'https://pubmed.ncbi.nlm.nih.gov/9422513/',\n",
    "    '10.1038/44188':'https://pubmed.ncbi.nlm.nih.gov/10524633/',\n",
    "    '10.1038/nature07034':'https://pubmed.ncbi.nlm.nih.gov/18552838/',\n",
    "       '10.1038/nature07091':'https://pubmed.ncbi.nlm.nih.gov/18594509/',\n",
    "       '10.1038/nature08027':'https://pubmed.ncbi.nlm.nih.gov/19483678/',\n",
    "       '10.1038/nature10539':'https://pubmed.ncbi.nlm.nih.gov/22012259/',\n",
    "       '10.1038/nature12878':'https://pubmed.ncbi.nlm.nih.gov/24336215/',\n",
    "       '10.1038/onc.2013.184':'https://pubmed.ncbi.nlm.nih.gov/23728342/',\n",
    "       '10.1038/onc.2013.237':'https://pubmed.ncbi.nlm.nih.gov/23770856/',\n",
    "       '10.1038/onc.2014.404':'https://pubmed.ncbi.nlm.nih.gov/25531324/',\n",
    "       '10.1038/onc.2014.22':'https://pubmed.ncbi.nlm.nih.gov/24632608/',\n",
    "       '10.3892/ijo.2012.1714':'https://pubmed.ncbi.nlm.nih.gov/23175173/',\n",
    "       '10.3892/ijo.2012.1617':'https://pubmed.ncbi.nlm.nih.gov/27826623/',\n",
    "       '10.3892/ijo.2012.1470':'https://pubmed.ncbi.nlm.nih.gov/22581300/',\n",
    "       '10.3892/ijo.2012.1343':'https://pubmed.ncbi.nlm.nih.gov/22293778/',\n",
    "       '10.3892/ijo.2013.1789':'https://pubmed.ncbi.nlm.nih.gov/23354006/',\n",
    "       '10.3892/ijo.2012.1741':'https://pubmed.ncbi.nlm.nih.gov/23254774/',\n",
    "       '10.3892/ijo.2013.1761':'https://pubmed.ncbi.nlm.nih.gov/23292068/',\n",
    "        '10.3892/ijo.2013.1809':'https://pubmed.ncbi.nlm.nih.gov/23403907/',\n",
    "       '10.3892/ijo.2013.1903':'https://pubmed.ncbi.nlm.nih.gov/23588792/',\n",
    "       '10.1016/j.ccr.2013.04.019':'https://pubmed.ncbi.nlm.nih.gov/23727022/',\n",
    "       '10.1016/j.ccr.2012.10.003':'https://pubmed.ncbi.nlm.nih.gov/23153534/',\n",
    "       '10.1016/j.ccr.2013.12.007':'https://pubmed.ncbi.nlm.nih.gov/24434208/',\n",
    "       '10.1016/j.ccr.2013.02.018':'https://pubmed.ncbi.nlm.nih.gov/23597563/',\n",
    "       '10.1016/j.ccell.2014.09.008':'https://pubmed.ncbi.nlm.nih.gov/25446900/',\n",
    "       '10.1073/pnas.1101273108':'https://pubmed.ncbi.nlm.nih.gov/21383157/',\n",
    "       '10.1073/pnas.1108537109':'https://pubmed.ncbi.nlm.nih.gov/22451918/',\n",
    "       '10.1073/pnas.1202214109':'https://pubmed.ncbi.nlm.nih.gov/22492977/',\n",
    "       '10.1073/pnas.1310331110':'https://pubmed.ncbi.nlm.nih.gov/23798383/',\n",
    "        '10.1073/pnas.1211179110':'https://pubmed.ncbi.nlm.nih.gov/23302695/',\n",
    "       '10.1073/pnas.1319190110':'https://pubmed.ncbi.nlm.nih.gov/24367099/'\n",
    "      }"
   ]
  },
  {
   "cell_type": "code",
   "execution_count": 9,
   "id": "fe5d21c7",
   "metadata": {},
   "outputs": [
    {
     "data": {
      "text/plain": [
       "True"
      ]
     },
     "execution_count": 9,
     "metadata": {},
     "output_type": "execute_result"
    }
   ],
   "source": [
    "'10.1002/ijc.27627' in mapp.keys()"
   ]
  },
  {
   "cell_type": "code",
   "execution_count": 10,
   "id": "7944e7e4",
   "metadata": {},
   "outputs": [],
   "source": [
    "institution_info = []\n",
    "problem = []\n",
    "for doi in DOI_list:\n",
    "    if ('pone' in doi) or ('pbio' in doi) or ('pgen' in doi) or ('ppat' in doi) or ('pntd' in doi):\n",
    "        url =  'https://doi.org/'+doi\n",
    "        response = requests.get(url)\n",
    "        soup = BeautifulSoup(response.text)\n",
    "        metas = soup.find_all('meta')\n",
    "        new_info = [meta.attrs['content'] for meta in metas if 'name' in meta.attrs and meta.attrs['name'] == 'citation_author_institution']\n",
    "        institution_info.append(new_info)\n",
    "    elif doi in mapp.keys():\n",
    "        url = mapp.get(doi)\n",
    "        url_contents = urllib.request.urlopen(url).read()\n",
    "        Soup = BeautifulSoup(url_contents)\n",
    "        anchors = Soup.findAll('a', href=True)\n",
    "        a = anchors[1]\n",
    "        try:\n",
    "            institution_info.append(a.attrs[\"title\"])\n",
    "        except:\n",
    "            institution_info.append([])\n",
    "    elif 'PMID:' in doi:\n",
    "        url = 'https://pubmed.ncbi.nlm.nih.gov/'+doi.lstrip('PMID: ')\n",
    "        url_contents = urllib.request.urlopen(url).read()\n",
    "        Soup = BeautifulSoup(url_contents)\n",
    "        anchors = Soup.findAll('a', href=True)\n",
    "        a = anchors[1]\n",
    "        institution_info.append(a.attrs[\"title\"])\n",
    "    \n",
    "        \n",
    "    else:\n",
    "        cr = Crossref()\n",
    "        try:\n",
    "            x = cr.works(ids = doi)\n",
    "            info =x['message']['author']\n",
    "            aux=[]\n",
    "            for i in range(len(info)):\n",
    "                for j in range(len(info[i][\"affiliation\"])):\n",
    "                    aux.append(info[i][\"affiliation\"][j][\"name\"])\n",
    "\n",
    "            institution_info.append(aux)\n",
    "        except:\n",
    "            problem.append(doi)\n",
    "            institution_info.append(\"  \")\n",
    "\n"
   ]
  },
  {
   "cell_type": "code",
   "execution_count": 11,
   "id": "aadeeeb3",
   "metadata": {},
   "outputs": [],
   "source": [
    "count=-1\n",
    "inde =[]\n",
    "for e in institution_info:\n",
    "    count+=1\n",
    "    if e ==[]:\n",
    "        inde.append(count)"
   ]
  },
  {
   "cell_type": "code",
   "execution_count": 12,
   "id": "1a1a735f",
   "metadata": {},
   "outputs": [],
   "source": [
    "emp_doi = [DOI_list[j] for j in inde]"
   ]
  },
  {
   "cell_type": "code",
   "execution_count": 13,
   "id": "6d2c9f22",
   "metadata": {},
   "outputs": [
    {
     "data": {
      "text/plain": [
       "9"
      ]
     },
     "execution_count": 13,
     "metadata": {},
     "output_type": "execute_result"
    }
   ],
   "source": [
    "len(emp_doi)"
   ]
  },
  {
   "cell_type": "code",
   "execution_count": 14,
   "id": "188f0d77",
   "metadata": {},
   "outputs": [
    {
     "data": {
      "text/plain": [
       "['10.1186/gb-2013-14-10-r121',\n",
       " '10.1186/bcr3322',\n",
       " '10.1186/bcr3441',\n",
       " '10.1186/bcr3692',\n",
       " '10.1016/j.cyto.2009.11.020',\n",
       " '10.1016/j.cyto.2010.09.007',\n",
       " '10.1016/j.cyto.2012.04.029',\n",
       " '10.1016/j.cyto.2012.05.021',\n",
       " '10.1038/onc.2012.182']"
      ]
     },
     "execution_count": 14,
     "metadata": {},
     "output_type": "execute_result"
    }
   ],
   "source": [
    "emp_doi"
   ]
  },
  {
   "cell_type": "code",
   "execution_count": 15,
   "id": "cb803d09",
   "metadata": {},
   "outputs": [],
   "source": [
    "tsv_df['institution_info']=institution_info"
   ]
  },
  {
   "cell_type": "code",
   "execution_count": 16,
   "id": "bd91c53a",
   "metadata": {},
   "outputs": [
    {
     "data": {
      "text/plain": [
       "0      [Institute of Pharmacology, Toxicology and Pha...\n",
       "1      [Department of Genetics, Washington University...\n",
       "2      [Department of Oral Biology and Pathology, Sch...\n",
       "3      [Oncology Research, Pfizer Worldwide Research ...\n",
       "4      [Neurophysiology Laboratory, Department of Pha...\n",
       "                             ...                        \n",
       "209    Department of Genetics, Cancer Research United...\n",
       "210    Departments of Molecular Biology, The Scripps ...\n",
       "211    Section on Integrative Physiology and Metaboli...\n",
       "212    Division of Nephrology and Center for Lung Bio...\n",
       "213    School of Life Sciences, Tsinghua University, ...\n",
       "Name: institution_info, Length: 214, dtype: object"
      ]
     },
     "execution_count": 16,
     "metadata": {},
     "output_type": "execute_result"
    }
   ],
   "source": [
    "tsv_df.institution_info"
   ]
  },
  {
   "cell_type": "code",
   "execution_count": 17,
   "id": "549129d1",
   "metadata": {},
   "outputs": [
    {
     "data": {
      "text/html": [
       "<div>\n",
       "<style scoped>\n",
       "    .dataframe tbody tr th:only-of-type {\n",
       "        vertical-align: middle;\n",
       "    }\n",
       "\n",
       "    .dataframe tbody tr th {\n",
       "        vertical-align: top;\n",
       "    }\n",
       "\n",
       "    .dataframe thead th {\n",
       "        text-align: right;\n",
       "    }\n",
       "</style>\n",
       "<table border=\"1\" class=\"dataframe\">\n",
       "  <thead>\n",
       "    <tr style=\"text-align: right;\">\n",
       "      <th></th>\n",
       "      <th>Authors</th>\n",
       "      <th>Title</th>\n",
       "      <th>Citation</th>\n",
       "      <th>DOI</th>\n",
       "      <th>Year</th>\n",
       "      <th>0</th>\n",
       "      <th>1</th>\n",
       "      <th>2</th>\n",
       "      <th>3</th>\n",
       "      <th>FINDINGS</th>\n",
       "      <th>Reported</th>\n",
       "      <th>Correction Date</th>\n",
       "      <th>Retraction</th>\n",
       "      <th>Correction</th>\n",
       "      <th>No Action</th>\n",
       "      <th>SUM \\nCompleted</th>\n",
       "      <th>institution_info</th>\n",
       "    </tr>\n",
       "  </thead>\n",
       "  <tbody>\n",
       "    <tr>\n",
       "      <th>0</th>\n",
       "      <td>Inka Regine Weingaertner, Sarah Koutnik, Herma...</td>\n",
       "      <td>Chronic Morphine Treatment Attenuates Cell Gro...</td>\n",
       "      <td>PLOS One, January 2013 | Volume 8 | Issue 1 | ...</td>\n",
       "      <td>10.1371/journal.pone.0053510</td>\n",
       "      <td>01/01/13</td>\n",
       "      <td>1.0</td>\n",
       "      <td>NaN</td>\n",
       "      <td>1.0</td>\n",
       "      <td>NaN</td>\n",
       "      <td>duplicated blot, shifted microscopy</td>\n",
       "      <td>1</td>\n",
       "      <td>10/09/15</td>\n",
       "      <td>NaN</td>\n",
       "      <td>1.0</td>\n",
       "      <td>NaN</td>\n",
       "      <td>1</td>\n",
       "      <td>[Institute of Pharmacology, Toxicology and Pha...</td>\n",
       "    </tr>\n",
       "    <tr>\n",
       "      <th>1</th>\n",
       "      <td>Jessica M. Esparza, Eileen O’Toole, Linya Li, ...</td>\n",
       "      <td>Katanin Localization Requires Triplet Microtub...</td>\n",
       "      <td>PLOS ONE, January 2013 | Volume 8 | Issue 1 | ...</td>\n",
       "      <td>10.1371/journal.pone.0053940</td>\n",
       "      <td>01/01/13</td>\n",
       "      <td>NaN</td>\n",
       "      <td>1.0</td>\n",
       "      <td>NaN</td>\n",
       "      <td>NaN</td>\n",
       "      <td>duplicated colony strip</td>\n",
       "      <td>1</td>\n",
       "      <td>01/15/16</td>\n",
       "      <td>NaN</td>\n",
       "      <td>1.0</td>\n",
       "      <td>NaN</td>\n",
       "      <td>1</td>\n",
       "      <td>[Department of Genetics, Washington University...</td>\n",
       "    </tr>\n",
       "    <tr>\n",
       "      <th>2</th>\n",
       "      <td>Sreedevi Avasarala, Fangfang Zhang, Guangliang...</td>\n",
       "      <td>Curcumin Modulates the Inflammatory Response a...</td>\n",
       "      <td>PLOS ONE, February 2013 | Volume 8 | Issue 2 |...</td>\n",
       "      <td>10.1371/journal.pone.0057285</td>\n",
       "      <td>01/01/13</td>\n",
       "      <td>NaN</td>\n",
       "      <td>NaN</td>\n",
       "      <td>1.0</td>\n",
       "      <td>NaN</td>\n",
       "      <td>reuse of one lane in different blot experiment</td>\n",
       "      <td>1</td>\n",
       "      <td>08/04/15</td>\n",
       "      <td>NaN</td>\n",
       "      <td>1.0</td>\n",
       "      <td>NaN</td>\n",
       "      <td>1</td>\n",
       "      <td>[Department of Oral Biology and Pathology, Sch...</td>\n",
       "    </tr>\n",
       "    <tr>\n",
       "      <th>3</th>\n",
       "      <td>Rounak Nassirpour, Pramod P. Mehta, Sangita M....</td>\n",
       "      <td>miR-221 Promotes Tumorigenesis in Human Triple...</td>\n",
       "      <td>PLOS ONE, April 2013 | Volume 8 | Issue 4 | e6...</td>\n",
       "      <td>10.1371/journal.pone.0062170</td>\n",
       "      <td>01/01/13</td>\n",
       "      <td>1.0</td>\n",
       "      <td>NaN</td>\n",
       "      <td>NaN</td>\n",
       "      <td>1</td>\n",
       "      <td>Duplicated / mirrored bands in blot</td>\n",
       "      <td>1</td>\n",
       "      <td>04/10/17</td>\n",
       "      <td>1.0</td>\n",
       "      <td>NaN</td>\n",
       "      <td>NaN</td>\n",
       "      <td>1</td>\n",
       "      <td>[Oncology Research, Pfizer Worldwide Research ...</td>\n",
       "    </tr>\n",
       "    <tr>\n",
       "      <th>4</th>\n",
       "      <td>Jianuo Liu,  Peng Xu, Cory Collins, Han Liu, J...</td>\n",
       "      <td>HIV-1 Tat Protein Increases Microglial Outward...</td>\n",
       "      <td>PLOS ONE, May 2013 | Volume 8 | Issue 5 | e649...</td>\n",
       "      <td>10.1371/journal.pone.0064904</td>\n",
       "      <td>01/01/13</td>\n",
       "      <td>NaN</td>\n",
       "      <td>1.0</td>\n",
       "      <td>NaN</td>\n",
       "      <td>NaN</td>\n",
       "      <td>multiple duplicated microscopy images</td>\n",
       "      <td>1</td>\n",
       "      <td>09/19/14</td>\n",
       "      <td>NaN</td>\n",
       "      <td>1.0</td>\n",
       "      <td>NaN</td>\n",
       "      <td>1</td>\n",
       "      <td>[Neurophysiology Laboratory, Department of Pha...</td>\n",
       "    </tr>\n",
       "  </tbody>\n",
       "</table>\n",
       "</div>"
      ],
      "text/plain": [
       "                                             Authors  \\\n",
       "0  Inka Regine Weingaertner, Sarah Koutnik, Herma...   \n",
       "1  Jessica M. Esparza, Eileen O’Toole, Linya Li, ...   \n",
       "2  Sreedevi Avasarala, Fangfang Zhang, Guangliang...   \n",
       "3  Rounak Nassirpour, Pramod P. Mehta, Sangita M....   \n",
       "4  Jianuo Liu,  Peng Xu, Cory Collins, Han Liu, J...   \n",
       "\n",
       "                                               Title  \\\n",
       "0  Chronic Morphine Treatment Attenuates Cell Gro...   \n",
       "1  Katanin Localization Requires Triplet Microtub...   \n",
       "2  Curcumin Modulates the Inflammatory Response a...   \n",
       "3  miR-221 Promotes Tumorigenesis in Human Triple...   \n",
       "4  HIV-1 Tat Protein Increases Microglial Outward...   \n",
       "\n",
       "                                            Citation  \\\n",
       "0  PLOS One, January 2013 | Volume 8 | Issue 1 | ...   \n",
       "1  PLOS ONE, January 2013 | Volume 8 | Issue 1 | ...   \n",
       "2  PLOS ONE, February 2013 | Volume 8 | Issue 2 |...   \n",
       "3  PLOS ONE, April 2013 | Volume 8 | Issue 4 | e6...   \n",
       "4  PLOS ONE, May 2013 | Volume 8 | Issue 5 | e649...   \n",
       "\n",
       "                            DOI      Year    0    1    2    3  \\\n",
       "0  10.1371/journal.pone.0053510  01/01/13  1.0  NaN  1.0  NaN   \n",
       "1  10.1371/journal.pone.0053940  01/01/13  NaN  1.0  NaN  NaN   \n",
       "2  10.1371/journal.pone.0057285  01/01/13  NaN  NaN  1.0  NaN   \n",
       "3  10.1371/journal.pone.0062170  01/01/13  1.0  NaN  NaN    1   \n",
       "4  10.1371/journal.pone.0064904  01/01/13  NaN  1.0  NaN  NaN   \n",
       "\n",
       "                                         FINDINGS Reported Correction Date  \\\n",
       "0             duplicated blot, shifted microscopy        1        10/09/15   \n",
       "1                         duplicated colony strip        1        01/15/16   \n",
       "2  reuse of one lane in different blot experiment        1        08/04/15   \n",
       "3             Duplicated / mirrored bands in blot        1        04/10/17   \n",
       "4           multiple duplicated microscopy images        1        09/19/14   \n",
       "\n",
       "   Retraction  Correction  No Action  SUM \\nCompleted  \\\n",
       "0         NaN         1.0        NaN                1   \n",
       "1         NaN         1.0        NaN                1   \n",
       "2         NaN         1.0        NaN                1   \n",
       "3         1.0         NaN        NaN                1   \n",
       "4         NaN         1.0        NaN                1   \n",
       "\n",
       "                                    institution_info  \n",
       "0  [Institute of Pharmacology, Toxicology and Pha...  \n",
       "1  [Department of Genetics, Washington University...  \n",
       "2  [Department of Oral Biology and Pathology, Sch...  \n",
       "3  [Oncology Research, Pfizer Worldwide Research ...  \n",
       "4  [Neurophysiology Laboratory, Department of Pha...  "
      ]
     },
     "execution_count": 17,
     "metadata": {},
     "output_type": "execute_result"
    }
   ],
   "source": [
    "tsv_df.head()"
   ]
  },
  {
   "cell_type": "code",
   "execution_count": 18,
   "id": "83c6e979",
   "metadata": {},
   "outputs": [],
   "source": [
    "tsv_df.to_csv(\"sisi_v1.csv\",index=False)"
   ]
  }
 ],
 "metadata": {
  "kernelspec": {
   "display_name": "Python 3 (ipykernel)",
   "language": "python",
   "name": "python3"
  },
  "language_info": {
   "codemirror_mode": {
    "name": "ipython",
    "version": 3
   },
   "file_extension": ".py",
   "mimetype": "text/x-python",
   "name": "python",
   "nbconvert_exporter": "python",
   "pygments_lexer": "ipython3",
   "version": "3.9.7"
  }
 },
 "nbformat": 4,
 "nbformat_minor": 5
}
